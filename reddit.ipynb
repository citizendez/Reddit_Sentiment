{
 "metadata": {
  "language_info": {
   "codemirror_mode": {
    "name": "ipython",
    "version": 3
   },
   "file_extension": ".py",
   "mimetype": "text/x-python",
   "name": "python",
   "nbconvert_exporter": "python",
   "pygments_lexer": "ipython3",
   "version": "3.8.3"
  },
  "orig_nbformat": 2,
  "kernelspec": {
   "name": "python383jvsc74a57bd0e28d355ffe64d4d7dd3c30d224966807c49e7982f9422157a2049392ef506462",
   "display_name": "Python 3.8.3 64-bit ('base': conda)"
  }
 },
 "nbformat": 4,
 "nbformat_minor": 2,
 "cells": [
  {
   "cell_type": "code",
   "execution_count": 25,
   "metadata": {},
   "outputs": [],
   "source": [
    "import requests, praw, re, time\n",
    "from bs4 import BeautifulSoup \n",
    "import pandas as pd \n",
    "from splinter import Browser\n",
    "from webdriver_manager.chrome import ChromeDriverManager\n",
    "from datetime import datetime\n",
    "import re\n",
    "from config import r_client_id,r_secret_key,r_dev,r_username,r_pw"
   ]
  },
  {
   "cell_type": "code",
   "execution_count": 3,
   "metadata": {},
   "outputs": [],
   "source": [
    "reddit = praw.Reddit(\n",
    "    client_id=r_client_id,\n",
    "    client_secret=r_secret_key,\n",
    "    password=r_pw,\n",
    "    user_agent=f'testscript by u/{r_dev}',\n",
    "    username=r_dev,\n",
    ")\n",
    "#print(reddit.user.me())"
   ]
  },
  {
   "cell_type": "code",
   "execution_count": 67,
   "metadata": {},
   "outputs": [
    {
     "output_type": "stream",
     "name": "stdout",
     "text": [
      "2021-06-02 18:53:20\n"
     ]
    }
   ],
   "source": [
    "#convert time stamp into something readable\n",
    "def time_convertion(time):\n",
    "    #time=str(time)\n",
    "    time = datetime.utcfromtimestamp(time).strftime('%Y-%m-%d %H:%M:%S')\n",
    "    time = pd.to_datetime(time)\n",
    "    return time\n",
    "print(time_convertion(1.622660e+09))"
   ]
  },
  {
   "cell_type": "code",
   "execution_count": 52,
   "metadata": {},
   "outputs": [],
   "source": [
    "#pars stock symbols out of comment body\n",
    "def symbol_pars(s):\n",
    "    match= re.findall('[A-Z\\s]{3,4}', s)\n",
    "    Match_split = ','.join(match)\n",
    "    return Match_split"
   ]
  },
  {
   "cell_type": "code",
   "execution_count": 69,
   "metadata": {},
   "outputs": [
    {
     "output_type": "execute_result",
     "data": {
      "text/plain": [
       "                                          Comment_Body              Author  \\\n",
       "1    [AMC issued 11,550,000 shares today](https://d...         DarkskY2020   \n",
       "2    Watch $TELL climb out of the whole it dugs its...          magpul1991   \n",
       "3    Thinking of dropping some boomers  BB  BREAKIN...  the-bad-lieutenant   \n",
       "4                                  Up $7k on AMC today        MoneyNinja23   \n",
       "5                                   $OCGN next ride🚀🚀🚀        MoneyNinja23   \n",
       "..                                                 ...                 ...   \n",
       "198                                BB $14s mothafuckas     Flashy_Mix_1987   \n",
       "199                                           BB BB BB                phly   \n",
       "200                                          [deleted]                None   \n",
       "201                                        $60 by EOD?            bearrfuk   \n",
       "0    Alamo, California\\n\\n7:27PM\\n\\n80F Sunny\\n\\nWh...         HellzAngelz   \n",
       "\n",
       "     Score                Time                   Symbol  \n",
       "1        0 2021-06-03 11:21:48                 AMC ,CIK  \n",
       "2        1 2021-06-03 07:14:54                     TELL  \n",
       "3        1 2021-06-03 05:58:52    BB,  BR,EAKI,NG B,ANK  \n",
       "4        1 2021-06-02 22:20:15                      AMC  \n",
       "5        2 2021-06-02 22:19:07                     OCGN  \n",
       "..     ...                 ...                      ...  \n",
       "198      5 2021-06-02 09:58:23                      BB   \n",
       "199      5 2021-06-02 09:58:03                BB B,B BB  \n",
       "200     17 2021-06-02 09:57:56                           \n",
       "201     13 2021-06-02 09:57:53                      EOD  \n",
       "0        1 2021-06-02 02:29:56         PM\\n\\n,F S,\\n\\nW  \n",
       "\n",
       "[202 rows x 5 columns]"
      ],
      "text/html": "<div>\n<style scoped>\n    .dataframe tbody tr th:only-of-type {\n        vertical-align: middle;\n    }\n\n    .dataframe tbody tr th {\n        vertical-align: top;\n    }\n\n    .dataframe thead th {\n        text-align: right;\n    }\n</style>\n<table border=\"1\" class=\"dataframe\">\n  <thead>\n    <tr style=\"text-align: right;\">\n      <th></th>\n      <th>Comment_Body</th>\n      <th>Author</th>\n      <th>Score</th>\n      <th>Time</th>\n      <th>Symbol</th>\n    </tr>\n  </thead>\n  <tbody>\n    <tr>\n      <th>1</th>\n      <td>[AMC issued 11,550,000 shares today](https://d...</td>\n      <td>DarkskY2020</td>\n      <td>0</td>\n      <td>2021-06-03 11:21:48</td>\n      <td>AMC ,CIK</td>\n    </tr>\n    <tr>\n      <th>2</th>\n      <td>Watch $TELL climb out of the whole it dugs its...</td>\n      <td>magpul1991</td>\n      <td>1</td>\n      <td>2021-06-03 07:14:54</td>\n      <td>TELL</td>\n    </tr>\n    <tr>\n      <th>3</th>\n      <td>Thinking of dropping some boomers  BB  BREAKIN...</td>\n      <td>the-bad-lieutenant</td>\n      <td>1</td>\n      <td>2021-06-03 05:58:52</td>\n      <td>BB,  BR,EAKI,NG B,ANK</td>\n    </tr>\n    <tr>\n      <th>4</th>\n      <td>Up $7k on AMC today</td>\n      <td>MoneyNinja23</td>\n      <td>1</td>\n      <td>2021-06-02 22:20:15</td>\n      <td>AMC</td>\n    </tr>\n    <tr>\n      <th>5</th>\n      <td>$OCGN next ride🚀🚀🚀</td>\n      <td>MoneyNinja23</td>\n      <td>2</td>\n      <td>2021-06-02 22:19:07</td>\n      <td>OCGN</td>\n    </tr>\n    <tr>\n      <th>...</th>\n      <td>...</td>\n      <td>...</td>\n      <td>...</td>\n      <td>...</td>\n      <td>...</td>\n    </tr>\n    <tr>\n      <th>198</th>\n      <td>BB $14s mothafuckas</td>\n      <td>Flashy_Mix_1987</td>\n      <td>5</td>\n      <td>2021-06-02 09:58:23</td>\n      <td>BB</td>\n    </tr>\n    <tr>\n      <th>199</th>\n      <td>BB BB BB</td>\n      <td>phly</td>\n      <td>5</td>\n      <td>2021-06-02 09:58:03</td>\n      <td>BB B,B BB</td>\n    </tr>\n    <tr>\n      <th>200</th>\n      <td>[deleted]</td>\n      <td>None</td>\n      <td>17</td>\n      <td>2021-06-02 09:57:56</td>\n      <td></td>\n    </tr>\n    <tr>\n      <th>201</th>\n      <td>$60 by EOD?</td>\n      <td>bearrfuk</td>\n      <td>13</td>\n      <td>2021-06-02 09:57:53</td>\n      <td>EOD</td>\n    </tr>\n    <tr>\n      <th>0</th>\n      <td>Alamo, California\\n\\n7:27PM\\n\\n80F Sunny\\n\\nWh...</td>\n      <td>HellzAngelz</td>\n      <td>1</td>\n      <td>2021-06-02 02:29:56</td>\n      <td>PM\\n\\n,F S,\\n\\nW</td>\n    </tr>\n  </tbody>\n</table>\n<p>202 rows × 5 columns</p>\n</div>"
     },
     "metadata": {},
     "execution_count": 69
    }
   ],
   "source": [
    "for submission in reddit.subreddit(\"wallstreetbets\").search('Daily Discussion Thread', limit=4, sort='new'):\n",
    "    #print(submission.title)\n",
    "    comment_lst = []\n",
    "    submission.comment_sort = 'new'\n",
    "    for comment in submission.comments:\n",
    "        try:\n",
    "            #print(comment.body)\n",
    "            d = {'Comment_Body':comment.body,\n",
    "                'Author':comment.author,\n",
    "                'Score':comment.score,\n",
    "                'Time': time_convertion(comment.created_utc),\n",
    "                'Symbol': symbol_pars(comment.body)\n",
    "                }\n",
    "            comment_lst.append(d)\n",
    "        except:\n",
    "            pass\n",
    "df = pd.DataFrame(comment_lst)\n",
    "df.sort_values('Time', ascending=False)"
   ]
  },
  {
   "cell_type": "code",
   "execution_count": 55,
   "metadata": {},
   "outputs": [
    {
     "output_type": "execute_result",
     "data": {
      "text/plain": [
       "                                          Comment_Body               Author  \\\n",
       "2                     Selling BB covered calls is fun.          SummerSnow8   \n",
       "7    AABB good buy - this thing is bout to trend up...         SHOWTIME2283   \n",
       "9    Oof think I’m avoiding any more AMC/BB for now...             cptphoto   \n",
       "15   You all got tricked by AMC and BB with their s...  TheSouthAlwaysFails   \n",
       "30           Who else bought BB $25 calls yesterday 😅😅            Masdawg20   \n",
       "..                                                 ...                  ...   \n",
       "207                     $BB, make me some green today.           Money-Bull   \n",
       "211  I've held BB for years already I'll hold it lo...            stinstrom   \n",
       "217  I will continue to like every BB post I see be...         CoutureTingz   \n",
       "218                                  LET'S GO BB 🚀🚀🚀🚀🚀           LordTender   \n",
       "222  The bot campaign against BB is stronk this mor...   Curious_Survey2651   \n",
       "\n",
       "     Score                 Time                             Symbol  \n",
       "2        1  2021-06-04 16:10:01                                BB   \n",
       "7        1  2021-06-04 16:09:46                          AABB, FYI  \n",
       "9        1  2021-06-04 16:09:41                   AMC,BB ,  H, BB   \n",
       "15       1  2021-06-04 16:09:25                      AMC, BB , GME  \n",
       "30       6  2021-06-04 16:08:39                                BB   \n",
       "..     ...                  ...                                ...  \n",
       "207     22  2021-06-04 16:00:11                                     \n",
       "211     18  2021-06-04 16:00:03                                BB   \n",
       "217     29  2021-06-04 15:59:48   BB , I , APE,S ST,RONG, TOG,ETHE  \n",
       "218     46  2021-06-04 15:59:44                      LET,S GO, BB   \n",
       "222      0  2021-06-04 15:59:39                                BB   \n",
       "\n",
       "[62 rows x 5 columns]"
      ],
      "text/html": "<div>\n<style scoped>\n    .dataframe tbody tr th:only-of-type {\n        vertical-align: middle;\n    }\n\n    .dataframe tbody tr th {\n        vertical-align: top;\n    }\n\n    .dataframe thead th {\n        text-align: right;\n    }\n</style>\n<table border=\"1\" class=\"dataframe\">\n  <thead>\n    <tr style=\"text-align: right;\">\n      <th></th>\n      <th>Comment_Body</th>\n      <th>Author</th>\n      <th>Score</th>\n      <th>Time</th>\n      <th>Symbol</th>\n    </tr>\n  </thead>\n  <tbody>\n    <tr>\n      <th>2</th>\n      <td>Selling BB covered calls is fun.</td>\n      <td>SummerSnow8</td>\n      <td>1</td>\n      <td>2021-06-04 16:10:01</td>\n      <td>BB</td>\n    </tr>\n    <tr>\n      <th>7</th>\n      <td>AABB good buy - this thing is bout to trend up...</td>\n      <td>SHOWTIME2283</td>\n      <td>1</td>\n      <td>2021-06-04 16:09:46</td>\n      <td>AABB, FYI</td>\n    </tr>\n    <tr>\n      <th>9</th>\n      <td>Oof think I’m avoiding any more AMC/BB for now...</td>\n      <td>cptphoto</td>\n      <td>1</td>\n      <td>2021-06-04 16:09:41</td>\n      <td>AMC,BB ,  H, BB</td>\n    </tr>\n    <tr>\n      <th>15</th>\n      <td>You all got tricked by AMC and BB with their s...</td>\n      <td>TheSouthAlwaysFails</td>\n      <td>1</td>\n      <td>2021-06-04 16:09:25</td>\n      <td>AMC, BB , GME</td>\n    </tr>\n    <tr>\n      <th>30</th>\n      <td>Who else bought BB $25 calls yesterday 😅😅</td>\n      <td>Masdawg20</td>\n      <td>6</td>\n      <td>2021-06-04 16:08:39</td>\n      <td>BB</td>\n    </tr>\n    <tr>\n      <th>...</th>\n      <td>...</td>\n      <td>...</td>\n      <td>...</td>\n      <td>...</td>\n      <td>...</td>\n    </tr>\n    <tr>\n      <th>207</th>\n      <td>$BB, make me some green today.</td>\n      <td>Money-Bull</td>\n      <td>22</td>\n      <td>2021-06-04 16:00:11</td>\n      <td></td>\n    </tr>\n    <tr>\n      <th>211</th>\n      <td>I've held BB for years already I'll hold it lo...</td>\n      <td>stinstrom</td>\n      <td>18</td>\n      <td>2021-06-04 16:00:03</td>\n      <td>BB</td>\n    </tr>\n    <tr>\n      <th>217</th>\n      <td>I will continue to like every BB post I see be...</td>\n      <td>CoutureTingz</td>\n      <td>29</td>\n      <td>2021-06-04 15:59:48</td>\n      <td>BB , I , APE,S ST,RONG, TOG,ETHE</td>\n    </tr>\n    <tr>\n      <th>218</th>\n      <td>LET'S GO BB 🚀🚀🚀🚀🚀</td>\n      <td>LordTender</td>\n      <td>46</td>\n      <td>2021-06-04 15:59:44</td>\n      <td>LET,S GO, BB</td>\n    </tr>\n    <tr>\n      <th>222</th>\n      <td>The bot campaign against BB is stronk this mor...</td>\n      <td>Curious_Survey2651</td>\n      <td>0</td>\n      <td>2021-06-04 15:59:39</td>\n      <td>BB</td>\n    </tr>\n  </tbody>\n</table>\n<p>62 rows × 5 columns</p>\n</div>"
     },
     "metadata": {},
     "execution_count": 55
    }
   ],
   "source": [
    "test = df.loc[df['Comment_Body'].str.contains('BB')]\n",
    "test"
   ]
  },
  {
   "cell_type": "code",
   "execution_count": 56,
   "metadata": {},
   "outputs": [
    {
     "output_type": "execute_result",
     "data": {
      "text/plain": [
       "                                          Comment_Body              Author  \\\n",
       "0    The AMC CEO slowed everything down smh you pan...             Abel383   \n",
       "1       Aight hear me out. Imma need u to drive AMC up          stavrosvks   \n",
       "2                     Selling BB covered calls is fun.         SummerSnow8   \n",
       "3    U know we are closer to the short squeeze when...      kooksoulsurfer   \n",
       "4    Y'all totally forget about NIO or what? Blasto...        post_pudding   \n",
       "..                                                 ...                 ...   \n",
       "219  BNTX over AMC any day. Not only have they been...           juan62389   \n",
       "220  I feel like if someone even looks at AMC wrong...     BackThatThangUp   \n",
       "221  No real fire for AMC today? Not sure how its g...        wareagle1972   \n",
       "222  The bot campaign against BB is stronk this mor...  Curious_Survey2651   \n",
       "223         The printer for my bb calls appears jammed         _Maverick_x   \n",
       "\n",
       "     Score                 Time               Symbol  \n",
       "0        1  2021-06-04 16:10:11             AMC, CEO  \n",
       "1        1  2021-06-04 16:10:09                  AMC  \n",
       "2        1  2021-06-04 16:10:01                  BB   \n",
       "3        1  2021-06-04 16:09:54             AMC, AMC  \n",
       "4        1  2021-06-04 16:09:50                  NIO  \n",
       "..     ...                  ...                  ...  \n",
       "219     -4  2021-06-04 15:59:43  BNTX, AMC, BNT,RNA   \n",
       "220      5  2021-06-04 15:59:42                  AMC  \n",
       "221      9  2021-06-04 15:59:40                  AMC  \n",
       "222      0  2021-06-04 15:59:39                  BB   \n",
       "223      8  2021-06-04 15:59:37                       \n",
       "\n",
       "[224 rows x 5 columns]"
      ],
      "text/html": "<div>\n<style scoped>\n    .dataframe tbody tr th:only-of-type {\n        vertical-align: middle;\n    }\n\n    .dataframe tbody tr th {\n        vertical-align: top;\n    }\n\n    .dataframe thead th {\n        text-align: right;\n    }\n</style>\n<table border=\"1\" class=\"dataframe\">\n  <thead>\n    <tr style=\"text-align: right;\">\n      <th></th>\n      <th>Comment_Body</th>\n      <th>Author</th>\n      <th>Score</th>\n      <th>Time</th>\n      <th>Symbol</th>\n    </tr>\n  </thead>\n  <tbody>\n    <tr>\n      <th>0</th>\n      <td>The AMC CEO slowed everything down smh you pan...</td>\n      <td>Abel383</td>\n      <td>1</td>\n      <td>2021-06-04 16:10:11</td>\n      <td>AMC, CEO</td>\n    </tr>\n    <tr>\n      <th>1</th>\n      <td>Aight hear me out. Imma need u to drive AMC up</td>\n      <td>stavrosvks</td>\n      <td>1</td>\n      <td>2021-06-04 16:10:09</td>\n      <td>AMC</td>\n    </tr>\n    <tr>\n      <th>2</th>\n      <td>Selling BB covered calls is fun.</td>\n      <td>SummerSnow8</td>\n      <td>1</td>\n      <td>2021-06-04 16:10:01</td>\n      <td>BB</td>\n    </tr>\n    <tr>\n      <th>3</th>\n      <td>U know we are closer to the short squeeze when...</td>\n      <td>kooksoulsurfer</td>\n      <td>1</td>\n      <td>2021-06-04 16:09:54</td>\n      <td>AMC, AMC</td>\n    </tr>\n    <tr>\n      <th>4</th>\n      <td>Y'all totally forget about NIO or what? Blasto...</td>\n      <td>post_pudding</td>\n      <td>1</td>\n      <td>2021-06-04 16:09:50</td>\n      <td>NIO</td>\n    </tr>\n    <tr>\n      <th>...</th>\n      <td>...</td>\n      <td>...</td>\n      <td>...</td>\n      <td>...</td>\n      <td>...</td>\n    </tr>\n    <tr>\n      <th>219</th>\n      <td>BNTX over AMC any day. Not only have they been...</td>\n      <td>juan62389</td>\n      <td>-4</td>\n      <td>2021-06-04 15:59:43</td>\n      <td>BNTX, AMC, BNT,RNA</td>\n    </tr>\n    <tr>\n      <th>220</th>\n      <td>I feel like if someone even looks at AMC wrong...</td>\n      <td>BackThatThangUp</td>\n      <td>5</td>\n      <td>2021-06-04 15:59:42</td>\n      <td>AMC</td>\n    </tr>\n    <tr>\n      <th>221</th>\n      <td>No real fire for AMC today? Not sure how its g...</td>\n      <td>wareagle1972</td>\n      <td>9</td>\n      <td>2021-06-04 15:59:40</td>\n      <td>AMC</td>\n    </tr>\n    <tr>\n      <th>222</th>\n      <td>The bot campaign against BB is stronk this mor...</td>\n      <td>Curious_Survey2651</td>\n      <td>0</td>\n      <td>2021-06-04 15:59:39</td>\n      <td>BB</td>\n    </tr>\n    <tr>\n      <th>223</th>\n      <td>The printer for my bb calls appears jammed</td>\n      <td>_Maverick_x</td>\n      <td>8</td>\n      <td>2021-06-04 15:59:37</td>\n      <td></td>\n    </tr>\n  </tbody>\n</table>\n<p>224 rows × 5 columns</p>\n</div>"
     },
     "metadata": {},
     "execution_count": 56
    }
   ],
   "source": [
    "df"
   ]
  },
  {
   "cell_type": "code",
   "execution_count": 66,
   "metadata": {},
   "outputs": [
    {
     "output_type": "execute_result",
     "data": {
      "text/plain": [
       "                                          Comment_Body               Author  \\\n",
       "8    If you put 200 in AMC jan 1st and cashed out w...           Dbaker8778   \n",
       "21   AMC will rocket in 22 minutes so get that sexy...       MrCocoMcMurphy   \n",
       "26         All my tech gains being offset by AMC/ BBBY           Mcdolnalds   \n",
       "31   CLNE goes up every time BB and AMC jump down x...        Many-Mess3899   \n",
       "35   Brosifs an Brosettes its time for the Lunchtim...         FrankCarmody   \n",
       "38   Got AMC back @ 14 and then several times to ev...            BlueFit01   \n",
       "44   There’s a shit ton of AMC contracts thats expi...           jnkrumah96   \n",
       "48   If you're buying AMC rn you probably think bir...      hullaballoonist   \n",
       "53   It’s a fucking battle over at AMC. Shorts do n...    struggling_autist   \n",
       "54             Rolled my gains from AMC puts into CLOV          Renegade886   \n",
       "67   If AMC reaches $80-100\\nyou’ll know it’s time ...          Campbell464   \n",
       "73        AMC buy the dip, let’s get this baby to 69 🚀             srj13579   \n",
       "84                                            AMC dead        Captain_Yolo_   \n",
       "85   Just a little consolidation for AMC. BAMInvest...              Kora710   \n",
       "89   “In the last week, AMC has sold 20 million sha...        4ngry_P3ngu1n   \n",
       "90   Who's bag holding AMC, I have 5 shares @$50 lo...  Intelligent_Use1553   \n",
       "91   Shorts are attacking AMC, let's all laugh and ...   Express-Image-7934   \n",
       "96              $AMC spike incoming in 25 minutes 🚀💎🙌🏽              hrdbdy_   \n",
       "101      AMC go back down to 30 where you belong bitch    NatsWorldSeries19   \n",
       "105                     I'd like for AMC to go back up       GOLDENBULLCOW1   \n",
       "107               Alright boys let’s get AMC to 70 📈😎💸   _Missing_Foreskin_   \n",
       "111  AMC had two hours of happiness, now we have tw...      Admirable-Smoke   \n",
       "122  If you're buying AMC rn you probably throw qua...      hullaballoonist   \n",
       "127                   Bought AMC at $54. Wish me lucks           exogeneity   \n",
       "128  CLNE is the play right now apes. $13 by 6/18 =...           propabanta   \n",
       "132  I see how it is AMC. You want to play games to...        oldbutterface   \n",
       "136  AMC IV DROPPING BEARS AND BULLS IN SHAMBLES TH...         bonejohnson8   \n",
       "143  In the last week, AMC has sold 20 million shar...        4ngry_P3ngu1n   \n",
       "161  Oh man we got split between AMC and BB, maybe ...         Soul_Traitor   \n",
       "163  Remember when $AMC hit $35 and then dropped? T...          Verticalism   \n",
       "165            Do you smeeeeeell what AMC is cooking 😂            juan62389   \n",
       "171  If you're buying AMC rn you probably hoarded t...      hullaballoonist   \n",
       "184  BB IS THE NEXT SHORTED STOCK LOOK AT AMC PRICE...   Timely_Figure_3262   \n",
       "185  Literally volume so dry on AMC and BB lmao is ...               Qertyp   \n",
       "191                                AMC about to rocket       TryandCancelMe   \n",
       "196         What time is a good time to buy AMC calls?                 R154   \n",
       "201  Whats the chances of a friday afyernoon dump o...             Beret888   \n",
       "203                           Power hour AMC tanks 20%   cantadmittoposting   \n",
       "206                  AMC to the earths core next week.              aphilon   \n",
       "207  BB is dead today. Hoping AMC moves when people...           Y0_adriann   \n",
       "210  Idk about you guys but I can do this everyday ...  Intelligent_Use1553   \n",
       "225  Corsair 23 Jan 2023 35C for my long shot in th...            jahruling   \n",
       "231  Got out of BB and back into AMC. Up or down at...           Dinoclorox   \n",
       "\n",
       "     Score                 Time  \\\n",
       "8        1  2021-06-04 16:28:51   \n",
       "21       1  2021-06-04 16:28:13   \n",
       "26       2  2021-06-04 16:28:10   \n",
       "31       1  2021-06-04 16:28:00   \n",
       "35      -1  2021-06-04 16:27:40   \n",
       "38       4  2021-06-04 16:27:36   \n",
       "44       4  2021-06-04 16:27:27   \n",
       "48       6  2021-06-04 16:27:20   \n",
       "53       3  2021-06-04 16:27:11   \n",
       "54       5  2021-06-04 16:27:09   \n",
       "67       4  2021-06-04 16:26:43   \n",
       "73       6  2021-06-04 16:26:25   \n",
       "84      -1  2021-06-04 16:25:46   \n",
       "85      11  2021-06-04 16:25:44   \n",
       "89      -1  2021-06-04 16:25:41   \n",
       "90      11  2021-06-04 16:25:34   \n",
       "91      11  2021-06-04 16:25:31   \n",
       "96      16  2021-06-04 16:25:12   \n",
       "101      0  2021-06-04 16:25:03   \n",
       "105      0  2021-06-04 16:24:46   \n",
       "107     18  2021-06-04 16:24:42   \n",
       "111      7  2021-06-04 16:24:25   \n",
       "122     19  2021-06-04 16:23:48   \n",
       "127     13  2021-06-04 16:23:35   \n",
       "128      3  2021-06-04 16:23:32   \n",
       "132     12  2021-06-04 16:23:21   \n",
       "136     13  2021-06-04 16:23:12   \n",
       "143      7  2021-06-04 16:22:58   \n",
       "161      6  2021-06-04 16:22:06   \n",
       "163     15  2021-06-04 16:21:58   \n",
       "165      6  2021-06-04 16:21:52   \n",
       "171     18  2021-06-04 16:21:21   \n",
       "184     19  2021-06-04 16:20:44   \n",
       "185      5  2021-06-04 16:20:43   \n",
       "191     16  2021-06-04 16:20:17   \n",
       "196      1  2021-06-04 16:20:10   \n",
       "201      5  2021-06-04 16:20:02   \n",
       "203      9  2021-06-04 16:19:49   \n",
       "206      1  2021-06-04 16:19:47   \n",
       "207     -4  2021-06-04 16:19:44   \n",
       "210      2  2021-06-04 16:19:33   \n",
       "225      2  2021-06-04 16:18:49   \n",
       "231      5  2021-06-04 16:18:32   \n",
       "\n",
       "                                                Symbol  \n",
       "8                                                  AMC  \n",
       "21                                                AMC   \n",
       "26                                            AMC, BBB  \n",
       "31                                      CLNE, BB , AMC  \n",
       "35           \\n\\nAM,\\n\\nGM,\\n\\nCL,\\n\\nBB,\\n\\nWK,\\n\\nI   \n",
       "38                               AMC,  S,  I ,  T, WSB  \n",
       "44                                                 AMC  \n",
       "48                                                 AMC  \n",
       "53                                                 AMC  \n",
       "54                                            AMC, CLO  \n",
       "67                                          AMC,\\n\\nI   \n",
       "73                                                AMC   \n",
       "84                                                AMC   \n",
       "85                                       AMC, BAM, AMC  \n",
       "89                                     AMC, AMC, \\n\\nF  \n",
       "90                                             AMC, I   \n",
       "91                                            AMC, AMC  \n",
       "96                                                AMC   \n",
       "101                                               AMC   \n",
       "105                                                AMC  \n",
       "107                                                AMC  \n",
       "111                                               AMC   \n",
       "122                                                AMC  \n",
       "127                                                AMC  \n",
       "128                       CLNE, I , GME, AMC, CLN, DD   \n",
       "132                                                AMC  \n",
       "136  AMC ,IV D,ROPP,ING ,BEAR,S AN,D BU,LLS ,IN S,H...  \n",
       "143                                           AMC, AMC  \n",
       "161                                       AMC, BB, ALL  \n",
       "163                                           AMC ,BB   \n",
       "165                                                AMC  \n",
       "171                                                AMC  \n",
       "184  BB I,S TH,E NE,XT S,HORT,ED S,TOCK, LOO,K AT, ...  \n",
       "185                                           AMC, BB   \n",
       "191                                               AMC   \n",
       "196                                                AMC  \n",
       "201                                                AMC  \n",
       "203                                                AMC  \n",
       "206                                               AMC   \n",
       "207                                           BB , AMC  \n",
       "210                                        I , AMC, I   \n",
       "225                                                AMC  \n",
       "231                                           BB , AMC  "
      ],
      "text/html": "<div>\n<style scoped>\n    .dataframe tbody tr th:only-of-type {\n        vertical-align: middle;\n    }\n\n    .dataframe tbody tr th {\n        vertical-align: top;\n    }\n\n    .dataframe thead th {\n        text-align: right;\n    }\n</style>\n<table border=\"1\" class=\"dataframe\">\n  <thead>\n    <tr style=\"text-align: right;\">\n      <th></th>\n      <th>Comment_Body</th>\n      <th>Author</th>\n      <th>Score</th>\n      <th>Time</th>\n      <th>Symbol</th>\n    </tr>\n  </thead>\n  <tbody>\n    <tr>\n      <th>8</th>\n      <td>If you put 200 in AMC jan 1st and cashed out w...</td>\n      <td>Dbaker8778</td>\n      <td>1</td>\n      <td>2021-06-04 16:28:51</td>\n      <td>AMC</td>\n    </tr>\n    <tr>\n      <th>21</th>\n      <td>AMC will rocket in 22 minutes so get that sexy...</td>\n      <td>MrCocoMcMurphy</td>\n      <td>1</td>\n      <td>2021-06-04 16:28:13</td>\n      <td>AMC</td>\n    </tr>\n    <tr>\n      <th>26</th>\n      <td>All my tech gains being offset by AMC/ BBBY</td>\n      <td>Mcdolnalds</td>\n      <td>2</td>\n      <td>2021-06-04 16:28:10</td>\n      <td>AMC, BBB</td>\n    </tr>\n    <tr>\n      <th>31</th>\n      <td>CLNE goes up every time BB and AMC jump down x...</td>\n      <td>Many-Mess3899</td>\n      <td>1</td>\n      <td>2021-06-04 16:28:00</td>\n      <td>CLNE, BB , AMC</td>\n    </tr>\n    <tr>\n      <th>35</th>\n      <td>Brosifs an Brosettes its time for the Lunchtim...</td>\n      <td>FrankCarmody</td>\n      <td>-1</td>\n      <td>2021-06-04 16:27:40</td>\n      <td>\\n\\nAM,\\n\\nGM,\\n\\nCL,\\n\\nBB,\\n\\nWK,\\n\\nI</td>\n    </tr>\n    <tr>\n      <th>38</th>\n      <td>Got AMC back @ 14 and then several times to ev...</td>\n      <td>BlueFit01</td>\n      <td>4</td>\n      <td>2021-06-04 16:27:36</td>\n      <td>AMC,  S,  I ,  T, WSB</td>\n    </tr>\n    <tr>\n      <th>44</th>\n      <td>There’s a shit ton of AMC contracts thats expi...</td>\n      <td>jnkrumah96</td>\n      <td>4</td>\n      <td>2021-06-04 16:27:27</td>\n      <td>AMC</td>\n    </tr>\n    <tr>\n      <th>48</th>\n      <td>If you're buying AMC rn you probably think bir...</td>\n      <td>hullaballoonist</td>\n      <td>6</td>\n      <td>2021-06-04 16:27:20</td>\n      <td>AMC</td>\n    </tr>\n    <tr>\n      <th>53</th>\n      <td>It’s a fucking battle over at AMC. Shorts do n...</td>\n      <td>struggling_autist</td>\n      <td>3</td>\n      <td>2021-06-04 16:27:11</td>\n      <td>AMC</td>\n    </tr>\n    <tr>\n      <th>54</th>\n      <td>Rolled my gains from AMC puts into CLOV</td>\n      <td>Renegade886</td>\n      <td>5</td>\n      <td>2021-06-04 16:27:09</td>\n      <td>AMC, CLO</td>\n    </tr>\n    <tr>\n      <th>67</th>\n      <td>If AMC reaches $80-100\\nyou’ll know it’s time ...</td>\n      <td>Campbell464</td>\n      <td>4</td>\n      <td>2021-06-04 16:26:43</td>\n      <td>AMC,\\n\\nI</td>\n    </tr>\n    <tr>\n      <th>73</th>\n      <td>AMC buy the dip, let’s get this baby to 69 🚀</td>\n      <td>srj13579</td>\n      <td>6</td>\n      <td>2021-06-04 16:26:25</td>\n      <td>AMC</td>\n    </tr>\n    <tr>\n      <th>84</th>\n      <td>AMC dead</td>\n      <td>Captain_Yolo_</td>\n      <td>-1</td>\n      <td>2021-06-04 16:25:46</td>\n      <td>AMC</td>\n    </tr>\n    <tr>\n      <th>85</th>\n      <td>Just a little consolidation for AMC. BAMInvest...</td>\n      <td>Kora710</td>\n      <td>11</td>\n      <td>2021-06-04 16:25:44</td>\n      <td>AMC, BAM, AMC</td>\n    </tr>\n    <tr>\n      <th>89</th>\n      <td>“In the last week, AMC has sold 20 million sha...</td>\n      <td>4ngry_P3ngu1n</td>\n      <td>-1</td>\n      <td>2021-06-04 16:25:41</td>\n      <td>AMC, AMC, \\n\\nF</td>\n    </tr>\n    <tr>\n      <th>90</th>\n      <td>Who's bag holding AMC, I have 5 shares @$50 lo...</td>\n      <td>Intelligent_Use1553</td>\n      <td>11</td>\n      <td>2021-06-04 16:25:34</td>\n      <td>AMC, I</td>\n    </tr>\n    <tr>\n      <th>91</th>\n      <td>Shorts are attacking AMC, let's all laugh and ...</td>\n      <td>Express-Image-7934</td>\n      <td>11</td>\n      <td>2021-06-04 16:25:31</td>\n      <td>AMC, AMC</td>\n    </tr>\n    <tr>\n      <th>96</th>\n      <td>$AMC spike incoming in 25 minutes 🚀💎🙌🏽</td>\n      <td>hrdbdy_</td>\n      <td>16</td>\n      <td>2021-06-04 16:25:12</td>\n      <td>AMC</td>\n    </tr>\n    <tr>\n      <th>101</th>\n      <td>AMC go back down to 30 where you belong bitch</td>\n      <td>NatsWorldSeries19</td>\n      <td>0</td>\n      <td>2021-06-04 16:25:03</td>\n      <td>AMC</td>\n    </tr>\n    <tr>\n      <th>105</th>\n      <td>I'd like for AMC to go back up</td>\n      <td>GOLDENBULLCOW1</td>\n      <td>0</td>\n      <td>2021-06-04 16:24:46</td>\n      <td>AMC</td>\n    </tr>\n    <tr>\n      <th>107</th>\n      <td>Alright boys let’s get AMC to 70 📈😎💸</td>\n      <td>_Missing_Foreskin_</td>\n      <td>18</td>\n      <td>2021-06-04 16:24:42</td>\n      <td>AMC</td>\n    </tr>\n    <tr>\n      <th>111</th>\n      <td>AMC had two hours of happiness, now we have tw...</td>\n      <td>Admirable-Smoke</td>\n      <td>7</td>\n      <td>2021-06-04 16:24:25</td>\n      <td>AMC</td>\n    </tr>\n    <tr>\n      <th>122</th>\n      <td>If you're buying AMC rn you probably throw qua...</td>\n      <td>hullaballoonist</td>\n      <td>19</td>\n      <td>2021-06-04 16:23:48</td>\n      <td>AMC</td>\n    </tr>\n    <tr>\n      <th>127</th>\n      <td>Bought AMC at $54. Wish me lucks</td>\n      <td>exogeneity</td>\n      <td>13</td>\n      <td>2021-06-04 16:23:35</td>\n      <td>AMC</td>\n    </tr>\n    <tr>\n      <th>128</th>\n      <td>CLNE is the play right now apes. $13 by 6/18 =...</td>\n      <td>propabanta</td>\n      <td>3</td>\n      <td>2021-06-04 16:23:32</td>\n      <td>CLNE, I , GME, AMC, CLN, DD</td>\n    </tr>\n    <tr>\n      <th>132</th>\n      <td>I see how it is AMC. You want to play games to...</td>\n      <td>oldbutterface</td>\n      <td>12</td>\n      <td>2021-06-04 16:23:21</td>\n      <td>AMC</td>\n    </tr>\n    <tr>\n      <th>136</th>\n      <td>AMC IV DROPPING BEARS AND BULLS IN SHAMBLES TH...</td>\n      <td>bonejohnson8</td>\n      <td>13</td>\n      <td>2021-06-04 16:23:12</td>\n      <td>AMC ,IV D,ROPP,ING ,BEAR,S AN,D BU,LLS ,IN S,H...</td>\n    </tr>\n    <tr>\n      <th>143</th>\n      <td>In the last week, AMC has sold 20 million shar...</td>\n      <td>4ngry_P3ngu1n</td>\n      <td>7</td>\n      <td>2021-06-04 16:22:58</td>\n      <td>AMC, AMC</td>\n    </tr>\n    <tr>\n      <th>161</th>\n      <td>Oh man we got split between AMC and BB, maybe ...</td>\n      <td>Soul_Traitor</td>\n      <td>6</td>\n      <td>2021-06-04 16:22:06</td>\n      <td>AMC, BB, ALL</td>\n    </tr>\n    <tr>\n      <th>163</th>\n      <td>Remember when $AMC hit $35 and then dropped? T...</td>\n      <td>Verticalism</td>\n      <td>15</td>\n      <td>2021-06-04 16:21:58</td>\n      <td>AMC ,BB</td>\n    </tr>\n    <tr>\n      <th>165</th>\n      <td>Do you smeeeeeell what AMC is cooking 😂</td>\n      <td>juan62389</td>\n      <td>6</td>\n      <td>2021-06-04 16:21:52</td>\n      <td>AMC</td>\n    </tr>\n    <tr>\n      <th>171</th>\n      <td>If you're buying AMC rn you probably hoarded t...</td>\n      <td>hullaballoonist</td>\n      <td>18</td>\n      <td>2021-06-04 16:21:21</td>\n      <td>AMC</td>\n    </tr>\n    <tr>\n      <th>184</th>\n      <td>BB IS THE NEXT SHORTED STOCK LOOK AT AMC PRICE...</td>\n      <td>Timely_Figure_3262</td>\n      <td>19</td>\n      <td>2021-06-04 16:20:44</td>\n      <td>BB I,S TH,E NE,XT S,HORT,ED S,TOCK, LOO,K AT, ...</td>\n    </tr>\n    <tr>\n      <th>185</th>\n      <td>Literally volume so dry on AMC and BB lmao is ...</td>\n      <td>Qertyp</td>\n      <td>5</td>\n      <td>2021-06-04 16:20:43</td>\n      <td>AMC, BB</td>\n    </tr>\n    <tr>\n      <th>191</th>\n      <td>AMC about to rocket</td>\n      <td>TryandCancelMe</td>\n      <td>16</td>\n      <td>2021-06-04 16:20:17</td>\n      <td>AMC</td>\n    </tr>\n    <tr>\n      <th>196</th>\n      <td>What time is a good time to buy AMC calls?</td>\n      <td>R154</td>\n      <td>1</td>\n      <td>2021-06-04 16:20:10</td>\n      <td>AMC</td>\n    </tr>\n    <tr>\n      <th>201</th>\n      <td>Whats the chances of a friday afyernoon dump o...</td>\n      <td>Beret888</td>\n      <td>5</td>\n      <td>2021-06-04 16:20:02</td>\n      <td>AMC</td>\n    </tr>\n    <tr>\n      <th>203</th>\n      <td>Power hour AMC tanks 20%</td>\n      <td>cantadmittoposting</td>\n      <td>9</td>\n      <td>2021-06-04 16:19:49</td>\n      <td>AMC</td>\n    </tr>\n    <tr>\n      <th>206</th>\n      <td>AMC to the earths core next week.</td>\n      <td>aphilon</td>\n      <td>1</td>\n      <td>2021-06-04 16:19:47</td>\n      <td>AMC</td>\n    </tr>\n    <tr>\n      <th>207</th>\n      <td>BB is dead today. Hoping AMC moves when people...</td>\n      <td>Y0_adriann</td>\n      <td>-4</td>\n      <td>2021-06-04 16:19:44</td>\n      <td>BB , AMC</td>\n    </tr>\n    <tr>\n      <th>210</th>\n      <td>Idk about you guys but I can do this everyday ...</td>\n      <td>Intelligent_Use1553</td>\n      <td>2</td>\n      <td>2021-06-04 16:19:33</td>\n      <td>I , AMC, I</td>\n    </tr>\n    <tr>\n      <th>225</th>\n      <td>Corsair 23 Jan 2023 35C for my long shot in th...</td>\n      <td>jahruling</td>\n      <td>2</td>\n      <td>2021-06-04 16:18:49</td>\n      <td>AMC</td>\n    </tr>\n    <tr>\n      <th>231</th>\n      <td>Got out of BB and back into AMC. Up or down at...</td>\n      <td>Dinoclorox</td>\n      <td>5</td>\n      <td>2021-06-04 16:18:32</td>\n      <td>BB , AMC</td>\n    </tr>\n  </tbody>\n</table>\n</div>"
     },
     "metadata": {},
     "execution_count": 66
    }
   ],
   "source": [
    "AMCLoc = df.loc[df['Comment_Body'].str.contains('AMC') ]\n",
    "AMCLoc"
   ]
  },
  {
   "cell_type": "code",
   "execution_count": null,
   "metadata": {},
   "outputs": [],
   "source": []
  }
 ]
}