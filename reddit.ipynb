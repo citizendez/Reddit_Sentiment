{
 "metadata": {
  "language_info": {
   "codemirror_mode": {
    "name": "ipython",
    "version": 3
   },
   "file_extension": ".py",
   "mimetype": "text/x-python",
   "name": "python",
   "nbconvert_exporter": "python",
   "pygments_lexer": "ipython3",
   "version": "3.8.3"
  },
  "orig_nbformat": 2,
  "kernelspec": {
   "name": "python383jvsc74a57bd0e28d355ffe64d4d7dd3c30d224966807c49e7982f9422157a2049392ef506462",
   "display_name": "Python 3.8.3 64-bit ('base': conda)"
  }
 },
 "nbformat": 4,
 "nbformat_minor": 2,
 "cells": [
  {
   "cell_type": "code",
   "execution_count": 1,
   "metadata": {},
   "outputs": [],
   "source": [
    "import requests, praw, re, time\n",
    "from bs4 import BeautifulSoup \n",
    "import pandas as pd \n",
    "from splinter import Browser\n",
    "from webdriver_manager.chrome import ChromeDriverManager\n",
    "from config import r_client_id,r_secret_key,r_dev,r_username,r_pw"
   ]
  },
  {
   "cell_type": "code",
   "execution_count": 3,
   "metadata": {},
   "outputs": [],
   "source": [
    "reddit = praw.Reddit(\n",
    "    client_id=r_client_id,\n",
    "    client_secret=r_secret_key,\n",
    "    password=r_pw,\n",
    "    user_agent=f'testscript by u/{r_dev}',\n",
    "    username=r_dev,\n",
    ")\n",
    "#print(reddit.user.me())"
   ]
  },
  {
   "cell_type": "code",
   "execution_count": 4,
   "metadata": {},
   "outputs": [
    {
     "output_type": "stream",
     "name": "stdout",
     "text": [
      "Daily Discussion Thread for June 02, 2021\n",
      "Get in losers, we’re taking BB to the moon. 🚀\n",
      "BB LETS GO\n",
      "Should I do BB or AMC?\n",
      "BB 20 EOW\n",
      "Massive short ladder attacks happening across both $BB and $AMC. We need to HOLD the line boys. I think $AMC apes should also take some profit and get into $BB. Much cheaper with more room to run IMO.\n",
      "Jesus if BB blows past $14 I’ll start going to church again\n",
      "BB 20 tomorrow as MM open up more strikes.\n",
      "BB to the fucking moon!!!!!\n",
      "$BBuy  $BBuy  $BBuy and HOLD TO THE MOON\n",
      "AMC marketcap is 4x BB.  BB can go wayyyy higher\n",
      "If BB can break the $14 resistance this thing is going to go batshit crazy, also shoutout to QS for finally making me some money.\n",
      "we going all in on BB?? I’m like fuck it why not\n",
      "The volume on BB is stupid high. It’s only a matter of time before this thing pops\n",
      "AMC is insane but watch that BB volume 🤔\n",
      "BB up 43% in the last week. wth are you waiting for? BUY AND HOLD \n",
      "\n",
      "BB to the moon BB 🚀🚀🚀🚀🚀🚀🚀🚀🚀🚀🚀🚀🚀🚀🚀🚀\n",
      "\n",
      "&#x200B;\n",
      "\n",
      "APES APES APES APES 🦍🦍🦍🦍🦍🦍🦍🦍🦍🦍🦍🦍🦍🦍🦍🦍🦍🦍🦍🦍🦍🦍🦍🦍🦍🦍🦍🦍🦍🦍🦍🦍🦍🦍🦍🦍🦍🦍🦍🦍🦍🦍🦍🦍🦍🦍🦍🦍🦍🦍🦍🦍🦍🦍🦍🦍🦍🦍🦍🦍🦍🦍🦍🦍🦍🦍\n",
      "Great job today AMC apes! Let’s help pick up all our BB bagholders in the $20’s this week too. If they hold once we pick them up, we could all be in the $$$ by next week. APES together strong 💪 🦍 🦧 🚀🚀🚀\n",
      "HEDGE FUNDS CAN SUCK IT. WE’RE TAKING AMC AND BB TO URANUS\n",
      "Well I just dropped a few stacks into BB. Anyone else?  Or is this strictly AMC blast off\n",
      "AMC 13.xx to 72.xx in 6 sessions. \n",
      "\n",
      "BB 13.xx to 72.xx in how many sessions?\n",
      "BB gonna go retard mode during powerhour\n",
      "AMC is gonna repeat GME success, then we gonna stick it to em on BB too.\n",
      "Ok... I don't remember BBBY back then.....but hey...whatever works ..\n",
      "As excited as I am for BB, I think it will go back down after the hype dies. Would it be a good idea to sell a call dated 6 weeks out to take advantage of the IV?\n",
      "LFG BB\n",
      "predicting BB goes right to 15 once we break 14 again\n",
      "Just bought a grand worth of BB, to the moon!!!!!!\n",
      "This is ur sign to go ALL IN ON BB\n",
      "BB IS NEXT\n",
      "BB is going to go fucking nuts AH today lol\n",
      "Buy BB and AMC💎\n",
      "Look at BB volume. Its disgusting. Time to pop that bad boyyy\n",
      "Thoughts on BB? Just got 35 shares but…..should I get more?!?\n",
      "If you missed the AMC or GME rockets, BB is next in line. The holy trinity.\n",
      "I need AMC to go back up because then BB will follow\n",
      "BB closing at 14.20 today. explodes in after hours. calling it\n",
      "LMAO check this guys post history u/MammothMethod8417. Has over 30 posts in the last hour alone spreading AMC/GME FUD and trying to pump BB. Is this really what WSB has come to? Absolutely pathetic.\n",
      "better get in on BB rn, bout to blast its a feeling\n",
      "BB GONNA ROCKET\n",
      "Is Bed, Bath etc...BBBY a thing...  Or are people missing BB?\n"
     ]
    }
   ],
   "source": [
    "for submission in reddit.subreddit(\"wallstreetbets\").hot(limit=1):\n",
    "    print(submission.title)\n",
    "    submission.comment_sort = 'new'\n",
    "    for comment in submission.comments:\n",
    "        try:\n",
    "            if 'BB' in comment.body:\n",
    "                print(comment.body)\n",
    "        except:\n",
    "            pass"
   ]
  },
  {
   "cell_type": "code",
   "execution_count": null,
   "metadata": {},
   "outputs": [],
   "source": []
  }
 ]
}