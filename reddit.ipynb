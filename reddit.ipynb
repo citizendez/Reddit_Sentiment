{
 "metadata": {
  "language_info": {
   "codemirror_mode": {
    "name": "ipython",
    "version": 3
   },
   "file_extension": ".py",
   "mimetype": "text/x-python",
   "name": "python",
   "nbconvert_exporter": "python",
   "pygments_lexer": "ipython3",
   "version": "3.8.3"
  },
  "orig_nbformat": 2,
  "kernelspec": {
   "name": "python383jvsc74a57bd0e28d355ffe64d4d7dd3c30d224966807c49e7982f9422157a2049392ef506462",
   "display_name": "Python 3.8.3 64-bit ('base': conda)"
  }
 },
 "nbformat": 4,
 "nbformat_minor": 2,
 "cells": [
  {
   "cell_type": "code",
   "execution_count": 14,
   "metadata": {},
   "outputs": [],
   "source": [
    "import requests, praw, re, time\n",
    "from bs4 import BeautifulSoup \n",
    "import pandas as pd \n",
    "from splinter import Browser\n",
    "from webdriver_manager.chrome import ChromeDriverManager\n",
    "from datetime import datetime\n",
    "import re\n",
    "import nltk\n",
    "from nltk.sentiment.vader import SentimentIntensityAnalyzer as SIA\n",
    "from config import r_client_id,r_secret_key,r_dev,r_username,r_pw"
   ]
  },
  {
   "cell_type": "code",
   "execution_count": 15,
   "metadata": {},
   "outputs": [
    {
     "output_type": "stream",
     "name": "stderr",
     "text": [
      "[nltk_data] Downloading package vader_lexicon to\n[nltk_data]     C:\\Users\\citiz\\AppData\\Roaming\\nltk_data...\n[nltk_data]   Package vader_lexicon is already up-to-date!\n[nltk_data] Downloading package stopwords to\n[nltk_data]     C:\\Users\\citiz\\AppData\\Roaming\\nltk_data...\n[nltk_data]   Package stopwords is already up-to-date!\n"
     ]
    },
    {
     "output_type": "execute_result",
     "data": {
      "text/plain": [
       "True"
      ]
     },
     "metadata": {},
     "execution_count": 15
    }
   ],
   "source": [
    "#naturla language took kit\n",
    "nltk.download('vader_lexicon')\n",
    "nltk.download('stopwords')"
   ]
  },
  {
   "cell_type": "code",
   "execution_count": 2,
   "metadata": {},
   "outputs": [],
   "source": [
    "reddit = praw.Reddit(\n",
    "    client_id=r_client_id,\n",
    "    client_secret=r_secret_key,\n",
    "    password=r_pw,\n",
    "    user_agent=f'testscript by u/{r_dev}',\n",
    "    username=r_dev,\n",
    ")\n",
    "#print(reddit.user.me())"
   ]
  },
  {
   "cell_type": "code",
   "execution_count": 3,
   "metadata": {},
   "outputs": [
    {
     "output_type": "stream",
     "name": "stdout",
     "text": [
      "2021-06-02 18:53:20\n"
     ]
    }
   ],
   "source": [
    "#FUNCTION to convert time stamp into something readable\n",
    "def time_convertion(time):\n",
    "    #time=str(time)\n",
    "    time = datetime.utcfromtimestamp(time).strftime('%Y-%m-%d %H:%M:%S')\n",
    "    time = pd.to_datetime(time)\n",
    "    return time\n",
    "print(time_convertion(1.622660e+09))"
   ]
  },
  {
   "cell_type": "code",
   "execution_count": 4,
   "metadata": {},
   "outputs": [],
   "source": [
    "#FUNCTION to pars stock symbols out of comment body\n",
    "def symbol_pars(s):\n",
    "    match= re.findall('[A-Z\\s]{3,4}', s)\n",
    "    Match_split = ','.join(match)\n",
    "    return Match_split"
   ]
  },
  {
   "cell_type": "code",
   "execution_count": 6,
   "metadata": {},
   "outputs": [
    {
     "output_type": "execute_result",
     "data": {
      "text/plain": [
       "                                          Comment_Body                Author  \\\n",
       "1    If ya'll hopped on CLNE yesterday I'll see you...              DonBaron   \n",
       "2    You all realize when you make these limit buys...    No-Percentage-3786   \n",
       "3    Why is the boss of memestocks, GME, not doing ...           MetalliTooL   \n",
       "4                CAN BB JUST GO UP OR DOWN WITHOUT AMC           SeagullMan2   \n",
       "5                                     Qgen about to go              cacy1800   \n",
       "..                                                 ...                   ...   \n",
       "119     RKT TO THE MOON! Let’s not forget about AMC 📈🍿        Jstayflexinn__   \n",
       "120     RKT TO THE MOON! Let’s not forget about AMC 📈🍿        Jstayflexinn__   \n",
       "121                         Tilray beginning the move🚀  ForsakenSituation713   \n",
       "122                                            RLT 🚀🚀🚀            l3all3r900   \n",
       "0    What are y'alls thoughts on these generic movi...          Dan_inKuwait   \n",
       "\n",
       "     Score                Time                                         Symbol  \n",
       "1        2 2021-06-04 13:05:36                                       CLN, APE  \n",
       "2        2 2021-06-03 19:43:50                                                 \n",
       "3        1 2021-06-03 19:00:46                                            GME  \n",
       "4        3 2021-06-03 18:56:20   CAN ,BB J,UST ,GO U,P OR, DOW,N WI,THOU,T AM  \n",
       "5        2 2021-06-03 18:29:42                                                 \n",
       "..     ...                 ...                                            ...  \n",
       "119    -10 2021-06-02 21:01:23                        RKT ,TO T,HE M,OON, AMC  \n",
       "120    -11 2021-06-02 21:01:12                        RKT ,TO T,HE M,OON, AMC  \n",
       "121     15 2021-06-02 21:00:57                                                 \n",
       "122      2 2021-06-02 21:00:17                                           RLT   \n",
       "0        1 2021-06-02 10:34:08  \\n\\nP, I ,  \\n\\n, I ,\\n\\nE, \\n\\n, \\n\\n,\\n\\n\\n  \n",
       "\n",
       "[123 rows x 5 columns]"
      ],
      "text/html": "<div>\n<style scoped>\n    .dataframe tbody tr th:only-of-type {\n        vertical-align: middle;\n    }\n\n    .dataframe tbody tr th {\n        vertical-align: top;\n    }\n\n    .dataframe thead th {\n        text-align: right;\n    }\n</style>\n<table border=\"1\" class=\"dataframe\">\n  <thead>\n    <tr style=\"text-align: right;\">\n      <th></th>\n      <th>Comment_Body</th>\n      <th>Author</th>\n      <th>Score</th>\n      <th>Time</th>\n      <th>Symbol</th>\n    </tr>\n  </thead>\n  <tbody>\n    <tr>\n      <th>1</th>\n      <td>If ya'll hopped on CLNE yesterday I'll see you...</td>\n      <td>DonBaron</td>\n      <td>2</td>\n      <td>2021-06-04 13:05:36</td>\n      <td>CLN, APE</td>\n    </tr>\n    <tr>\n      <th>2</th>\n      <td>You all realize when you make these limit buys...</td>\n      <td>No-Percentage-3786</td>\n      <td>2</td>\n      <td>2021-06-03 19:43:50</td>\n      <td></td>\n    </tr>\n    <tr>\n      <th>3</th>\n      <td>Why is the boss of memestocks, GME, not doing ...</td>\n      <td>MetalliTooL</td>\n      <td>1</td>\n      <td>2021-06-03 19:00:46</td>\n      <td>GME</td>\n    </tr>\n    <tr>\n      <th>4</th>\n      <td>CAN BB JUST GO UP OR DOWN WITHOUT AMC</td>\n      <td>SeagullMan2</td>\n      <td>3</td>\n      <td>2021-06-03 18:56:20</td>\n      <td>CAN ,BB J,UST ,GO U,P OR, DOW,N WI,THOU,T AM</td>\n    </tr>\n    <tr>\n      <th>5</th>\n      <td>Qgen about to go</td>\n      <td>cacy1800</td>\n      <td>2</td>\n      <td>2021-06-03 18:29:42</td>\n      <td></td>\n    </tr>\n    <tr>\n      <th>...</th>\n      <td>...</td>\n      <td>...</td>\n      <td>...</td>\n      <td>...</td>\n      <td>...</td>\n    </tr>\n    <tr>\n      <th>119</th>\n      <td>RKT TO THE MOON! Let’s not forget about AMC 📈🍿</td>\n      <td>Jstayflexinn__</td>\n      <td>-10</td>\n      <td>2021-06-02 21:01:23</td>\n      <td>RKT ,TO T,HE M,OON, AMC</td>\n    </tr>\n    <tr>\n      <th>120</th>\n      <td>RKT TO THE MOON! Let’s not forget about AMC 📈🍿</td>\n      <td>Jstayflexinn__</td>\n      <td>-11</td>\n      <td>2021-06-02 21:01:12</td>\n      <td>RKT ,TO T,HE M,OON, AMC</td>\n    </tr>\n    <tr>\n      <th>121</th>\n      <td>Tilray beginning the move🚀</td>\n      <td>ForsakenSituation713</td>\n      <td>15</td>\n      <td>2021-06-02 21:00:57</td>\n      <td></td>\n    </tr>\n    <tr>\n      <th>122</th>\n      <td>RLT 🚀🚀🚀</td>\n      <td>l3all3r900</td>\n      <td>2</td>\n      <td>2021-06-02 21:00:17</td>\n      <td>RLT</td>\n    </tr>\n    <tr>\n      <th>0</th>\n      <td>What are y'alls thoughts on these generic movi...</td>\n      <td>Dan_inKuwait</td>\n      <td>1</td>\n      <td>2021-06-02 10:34:08</td>\n      <td>\\n\\nP, I ,  \\n\\n, I ,\\n\\nE, \\n\\n, \\n\\n,\\n\\n\\n</td>\n    </tr>\n  </tbody>\n</table>\n<p>123 rows × 5 columns</p>\n</div>"
     },
     "metadata": {},
     "execution_count": 6
    }
   ],
   "source": [
    "#loop through subreddit Wallstreet Bets' Daily Discussion Thred, append into a list of dictionaries \n",
    "for submission in reddit.subreddit(\"wallstreetbets\").search('Daily Discussion Thread', limit=4, sort='new'):\n",
    "    #print(submission.title)\n",
    "    comment_lst = []\n",
    "    submission.comment_sort = 'new'\n",
    "    for comment in submission.comments:\n",
    "        try:\n",
    "            #print(comment.body)\n",
    "            d = {'Comment_Body':comment.body,\n",
    "                'Author':comment.author,\n",
    "                'Score':comment.score,\n",
    "                'Time': time_convertion(comment.created_utc),\n",
    "                'Symbol': symbol_pars(comment.body)\n",
    "                }\n",
    "            comment_lst.append(d)\n",
    "        except:\n",
    "            pass\n",
    "#turns our list of dictionaries into a dataframe. Sort values by time posted\n",
    "df = pd.DataFrame(comment_lst)\n",
    "df.sort_values('Time', ascending=False)"
   ]
  },
  {
   "cell_type": "code",
   "execution_count": 13,
   "metadata": {},
   "outputs": [
    {
     "output_type": "execute_result",
     "data": {
      "text/plain": [
       "                                         Comment_Body                Author  \\\n",
       "4               CAN BB JUST GO UP OR DOWN WITHOUT AMC           SeagullMan2   \n",
       "9                 Bought the BB dip. Suck it gaybears       NicestGuyOnHere   \n",
       "11  BB Apes:  Buy OTM June 18 40 calls to keep thi...                154hpc   \n",
       "12               Everyone selling amc and buying BB 🔥  Such_Dragonfruit_298   \n",
       "16  Not pushing ( SNDL )just asking I’m holding on...        OlympusChimera   \n",
       "\n",
       "    Score                Time                                        Symbol  \n",
       "4       3 2021-06-03 18:56:20  CAN ,BB J,UST ,GO U,P OR, DOW,N WI,THOU,T AM  \n",
       "9       6 2021-06-03 13:53:15                                           BB   \n",
       "11      4 2021-06-03 13:38:24                       BB A,  B, OTM, MM , EPI  \n",
       "12      4 2021-06-03 13:34:00                                           BB   \n",
       "16     10 2021-06-03 10:35:51                            SND, GME, AMC, BB   "
      ],
      "text/html": "<div>\n<style scoped>\n    .dataframe tbody tr th:only-of-type {\n        vertical-align: middle;\n    }\n\n    .dataframe tbody tr th {\n        vertical-align: top;\n    }\n\n    .dataframe thead th {\n        text-align: right;\n    }\n</style>\n<table border=\"1\" class=\"dataframe\">\n  <thead>\n    <tr style=\"text-align: right;\">\n      <th></th>\n      <th>Comment_Body</th>\n      <th>Author</th>\n      <th>Score</th>\n      <th>Time</th>\n      <th>Symbol</th>\n    </tr>\n  </thead>\n  <tbody>\n    <tr>\n      <th>4</th>\n      <td>CAN BB JUST GO UP OR DOWN WITHOUT AMC</td>\n      <td>SeagullMan2</td>\n      <td>3</td>\n      <td>2021-06-03 18:56:20</td>\n      <td>CAN ,BB J,UST ,GO U,P OR, DOW,N WI,THOU,T AM</td>\n    </tr>\n    <tr>\n      <th>9</th>\n      <td>Bought the BB dip. Suck it gaybears</td>\n      <td>NicestGuyOnHere</td>\n      <td>6</td>\n      <td>2021-06-03 13:53:15</td>\n      <td>BB</td>\n    </tr>\n    <tr>\n      <th>11</th>\n      <td>BB Apes:  Buy OTM June 18 40 calls to keep thi...</td>\n      <td>154hpc</td>\n      <td>4</td>\n      <td>2021-06-03 13:38:24</td>\n      <td>BB A,  B, OTM, MM , EPI</td>\n    </tr>\n    <tr>\n      <th>12</th>\n      <td>Everyone selling amc and buying BB 🔥</td>\n      <td>Such_Dragonfruit_298</td>\n      <td>4</td>\n      <td>2021-06-03 13:34:00</td>\n      <td>BB</td>\n    </tr>\n    <tr>\n      <th>16</th>\n      <td>Not pushing ( SNDL )just asking I’m holding on...</td>\n      <td>OlympusChimera</td>\n      <td>10</td>\n      <td>2021-06-03 10:35:51</td>\n      <td>SND, GME, AMC, BB</td>\n    </tr>\n  </tbody>\n</table>\n</div>"
     },
     "metadata": {},
     "execution_count": 13
    }
   ],
   "source": [
    "#locate comments that contain BB \n",
    "test = df.loc[df['Comment_Body'].str.contains('BB')]\n",
    "test.head()"
   ]
  },
  {
   "cell_type": "code",
   "execution_count": 9,
   "metadata": {},
   "outputs": [
    {
     "output_type": "execute_result",
     "data": {
      "text/plain": [
       "                                        Comment_Body              Author  \\\n",
       "0  What are y'alls thoughts on these generic movi...        Dan_inKuwait   \n",
       "1  If ya'll hopped on CLNE yesterday I'll see you...            DonBaron   \n",
       "2  You all realize when you make these limit buys...  No-Percentage-3786   \n",
       "3  Why is the boss of memestocks, GME, not doing ...         MetalliTooL   \n",
       "4              CAN BB JUST GO UP OR DOWN WITHOUT AMC         SeagullMan2   \n",
       "\n",
       "   Score                Time                                         Symbol  \n",
       "0      1 2021-06-02 10:34:08  \\n\\nP, I ,  \\n\\n, I ,\\n\\nE, \\n\\n, \\n\\n,\\n\\n\\n  \n",
       "1      2 2021-06-04 13:05:36                                       CLN, APE  \n",
       "2      2 2021-06-03 19:43:50                                                 \n",
       "3      1 2021-06-03 19:00:46                                            GME  \n",
       "4      3 2021-06-03 18:56:20   CAN ,BB J,UST ,GO U,P OR, DOW,N WI,THOU,T AM  "
      ],
      "text/html": "<div>\n<style scoped>\n    .dataframe tbody tr th:only-of-type {\n        vertical-align: middle;\n    }\n\n    .dataframe tbody tr th {\n        vertical-align: top;\n    }\n\n    .dataframe thead th {\n        text-align: right;\n    }\n</style>\n<table border=\"1\" class=\"dataframe\">\n  <thead>\n    <tr style=\"text-align: right;\">\n      <th></th>\n      <th>Comment_Body</th>\n      <th>Author</th>\n      <th>Score</th>\n      <th>Time</th>\n      <th>Symbol</th>\n    </tr>\n  </thead>\n  <tbody>\n    <tr>\n      <th>0</th>\n      <td>What are y'alls thoughts on these generic movi...</td>\n      <td>Dan_inKuwait</td>\n      <td>1</td>\n      <td>2021-06-02 10:34:08</td>\n      <td>\\n\\nP, I ,  \\n\\n, I ,\\n\\nE, \\n\\n, \\n\\n,\\n\\n\\n</td>\n    </tr>\n    <tr>\n      <th>1</th>\n      <td>If ya'll hopped on CLNE yesterday I'll see you...</td>\n      <td>DonBaron</td>\n      <td>2</td>\n      <td>2021-06-04 13:05:36</td>\n      <td>CLN, APE</td>\n    </tr>\n    <tr>\n      <th>2</th>\n      <td>You all realize when you make these limit buys...</td>\n      <td>No-Percentage-3786</td>\n      <td>2</td>\n      <td>2021-06-03 19:43:50</td>\n      <td></td>\n    </tr>\n    <tr>\n      <th>3</th>\n      <td>Why is the boss of memestocks, GME, not doing ...</td>\n      <td>MetalliTooL</td>\n      <td>1</td>\n      <td>2021-06-03 19:00:46</td>\n      <td>GME</td>\n    </tr>\n    <tr>\n      <th>4</th>\n      <td>CAN BB JUST GO UP OR DOWN WITHOUT AMC</td>\n      <td>SeagullMan2</td>\n      <td>3</td>\n      <td>2021-06-03 18:56:20</td>\n      <td>CAN ,BB J,UST ,GO U,P OR, DOW,N WI,THOU,T AM</td>\n    </tr>\n  </tbody>\n</table>\n</div>"
     },
     "metadata": {},
     "execution_count": 9
    }
   ],
   "source": [
    "df.head()"
   ]
  },
  {
   "cell_type": "code",
   "execution_count": 8,
   "metadata": {},
   "outputs": [
    {
     "output_type": "execute_result",
     "data": {
      "text/plain": [
       "                                         Comment_Body               Author  \\\n",
       "4               CAN BB JUST GO UP OR DOWN WITHOUT AMC          SeagullMan2   \n",
       "16  Not pushing ( SNDL )just asking I’m holding on...       OlympusChimera   \n",
       "21  Feel I've missed the boat with GME/AMC. What s...  SignificantGiraffe5   \n",
       "22  What do you reckon will happen with AMC today?...              x_amber   \n",
       "33  We’re gonna have a lot of cannabis millionaire...         Stup1dStonks   \n",
       "\n",
       "    Score                Time                                        Symbol  \n",
       "4       3 2021-06-03 18:56:20  CAN ,BB J,UST ,GO U,P OR, DOW,N WI,THOU,T AM  \n",
       "16     10 2021-06-03 10:35:51                            SND, GME, AMC, BB   \n",
       "21      3 2021-06-03 08:44:23                                   GME,AMC, I   \n",
       "22      3 2021-06-03 08:33:51                                           AMC  \n",
       "33      1 2021-06-03 01:39:13                             \\n\\nT, \\nAM, \\nBB  "
      ],
      "text/html": "<div>\n<style scoped>\n    .dataframe tbody tr th:only-of-type {\n        vertical-align: middle;\n    }\n\n    .dataframe tbody tr th {\n        vertical-align: top;\n    }\n\n    .dataframe thead th {\n        text-align: right;\n    }\n</style>\n<table border=\"1\" class=\"dataframe\">\n  <thead>\n    <tr style=\"text-align: right;\">\n      <th></th>\n      <th>Comment_Body</th>\n      <th>Author</th>\n      <th>Score</th>\n      <th>Time</th>\n      <th>Symbol</th>\n    </tr>\n  </thead>\n  <tbody>\n    <tr>\n      <th>4</th>\n      <td>CAN BB JUST GO UP OR DOWN WITHOUT AMC</td>\n      <td>SeagullMan2</td>\n      <td>3</td>\n      <td>2021-06-03 18:56:20</td>\n      <td>CAN ,BB J,UST ,GO U,P OR, DOW,N WI,THOU,T AM</td>\n    </tr>\n    <tr>\n      <th>16</th>\n      <td>Not pushing ( SNDL )just asking I’m holding on...</td>\n      <td>OlympusChimera</td>\n      <td>10</td>\n      <td>2021-06-03 10:35:51</td>\n      <td>SND, GME, AMC, BB</td>\n    </tr>\n    <tr>\n      <th>21</th>\n      <td>Feel I've missed the boat with GME/AMC. What s...</td>\n      <td>SignificantGiraffe5</td>\n      <td>3</td>\n      <td>2021-06-03 08:44:23</td>\n      <td>GME,AMC, I</td>\n    </tr>\n    <tr>\n      <th>22</th>\n      <td>What do you reckon will happen with AMC today?...</td>\n      <td>x_amber</td>\n      <td>3</td>\n      <td>2021-06-03 08:33:51</td>\n      <td>AMC</td>\n    </tr>\n    <tr>\n      <th>33</th>\n      <td>We’re gonna have a lot of cannabis millionaire...</td>\n      <td>Stup1dStonks</td>\n      <td>1</td>\n      <td>2021-06-03 01:39:13</td>\n      <td>\\n\\nT, \\nAM, \\nBB</td>\n    </tr>\n  </tbody>\n</table>\n</div>"
     },
     "metadata": {},
     "execution_count": 8
    }
   ],
   "source": [
    "#locate comments that include AMC\n",
    "AMCLoc = df.loc[df['Comment_Body'].str.contains('AMC') ]\n",
    "AMCLoc.head()"
   ]
  },
  {
   "cell_type": "code",
   "execution_count": 26,
   "metadata": {},
   "outputs": [
    {
     "output_type": "execute_result",
     "data": {
      "text/plain": [
       "{'neg': 0.0, 'neu': 0.192, 'pos': 0.808, 'compound': 0.6369}"
      ]
     },
     "metadata": {},
     "execution_count": 26
    }
   ],
   "source": [
    "sia = SIA()\n",
    "   \n",
    "scores = sia.polarity_scores('I love cats ')\n",
    "scores"
   ]
  },
  {
   "cell_type": "code",
   "execution_count": null,
   "metadata": {},
   "outputs": [],
   "source": []
  }
 ]
}